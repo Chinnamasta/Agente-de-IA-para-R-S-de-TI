{
  "nbformat": 4,
  "nbformat_minor": 0,
  "metadata": {
    "colab": {
      "provenance": [],
      "include_colab_link": true
    },
    "kernelspec": {
      "name": "python3",
      "display_name": "Python 3"
    },
    "language_info": {
      "name": "python"
    }
  },
  "cells": [
    {
      "cell_type": "markdown",
      "metadata": {
        "id": "view-in-github",
        "colab_type": "text"
      },
      "source": [
        "<a href=\"https://colab.research.google.com/github/Chinnamasta/Agente-de-IA-para-R-S-de-TI/blob/main/Agente_de_IA_para_Recrutamento_e_Sele%C3%A7%C3%A3o_de_TI.ipynb\" target=\"_parent\"><img src=\"https://colab.research.google.com/assets/colab-badge.svg\" alt=\"Open In Colab\"/></a>"
      ]
    },
    {
      "cell_type": "code",
      "source": [
        "%pip -q install google-genai"
      ],
      "metadata": {
        "id": "UCCbECexLk_h"
      },
      "execution_count": 1,
      "outputs": []
    },
    {
      "cell_type": "code",
      "source": [
        "# Configura a API Key do Google Gemini\n",
        "\n",
        "import os\n",
        "from google.colab import userdata\n",
        "\n",
        "os.environ[\"GOOGLE_API_KEY\"] = userdata.get('GOOGLE_API_KEY')"
      ],
      "metadata": {
        "id": "NfCqHo1tLk8P"
      },
      "execution_count": 2,
      "outputs": []
    },
    {
      "cell_type": "code",
      "source": [
        "# Configura o cliente da SDK do Gemini\n",
        "\n",
        "from google import genai\n",
        "\n",
        "client = genai.Client()\n",
        "\n",
        "MODEL_ID = \"gemini-2.0-flash\""
      ],
      "metadata": {
        "id": "bV4w0H5TLk5g"
      },
      "execution_count": 3,
      "outputs": []
    },
    {
      "cell_type": "code",
      "source": [
        "# Pergunta ao Gemini uma informação mais recente que seu conhecimento\n",
        "\n",
        "from IPython.display import HTML, Markdown\n",
        "\n",
        "# Perguntar pro modelo quando é a próxima imersão de IA ###############################################\n",
        "resposta = client.models.generate_content(\n",
        "    model=MODEL_ID,\n",
        "    contents='Quais os cargos mais buscados em tecnologia?',\n",
        ")\n",
        "\n",
        "\n",
        "# Exibe a resposta na tela\n",
        "display(Markdown(f\"Resposta:\\n {resposta.text}\"))"
      ],
      "metadata": {
        "id": "HwVP7Xi34Zuw",
        "colab": {
          "base_uri": "https://localhost:8080/",
          "height": 772
        },
        "outputId": "b9c8d9bb-eee9-4582-bb9e-08490e4e0245"
      },
      "execution_count": 4,
      "outputs": [
        {
          "output_type": "display_data",
          "data": {
            "text/plain": [
              "<IPython.core.display.Markdown object>"
            ],
            "text/markdown": "Resposta:\n O mercado de tecnologia está em constante evolução, e a demanda por profissionais qualificados continua alta. Alguns dos cargos mais buscados em tecnologia atualmente incluem:\n\n**Desenvolvimento de Software:**\n\n*   **Desenvolvedor(a) Front-end:** Responsável pela interface do usuário e experiência do usuário (UI/UX).\n*   **Desenvolvedor(a) Back-end:** Responsável pela lógica do servidor, banco de dados e APIs.\n*   **Desenvolvedor(a) Full-Stack:** Possui habilidades tanto em front-end quanto em back-end.\n*   **Engenheiro(a) de Software:** Projetar, desenvolver e manter sistemas de software.\n*   **Desenvolvedor(a) Mobile (iOS/Android):** Cria aplicativos para dispositivos móveis.\n*   **Desenvolvedor(a) de Jogos:** Cria jogos para diversas plataformas.\n\n**Dados e Inteligência Artificial:**\n\n*   **Cientista de Dados:** Analisa grandes volumes de dados para identificar padrões e insights.\n*   **Engenheiro(a) de Dados:** Constrói e mantém a infraestrutura para coleta, armazenamento e processamento de dados.\n*   **Analista de Dados:** Coleta, processa e analisa dados para fornecer insights e suporte à tomada de decisões.\n*   **Especialista em Machine Learning:** Desenvolve modelos de aprendizado de máquina para diversas aplicações.\n*   **Especialista em Inteligência Artificial (IA):** Desenvolve e implementa soluções de IA.\n\n**Infraestrutura e Nuvem:**\n\n*   **Engenheiro(a) de DevOps:** Automatiza e otimiza o ciclo de vida do desenvolvimento de software.\n*   **Engenheiro(a) de Nuvem:** Projetar, implementar e gerenciar soluções em nuvem (AWS, Azure, Google Cloud).\n*   **Administrador(a) de Sistemas/Redes:** Gerencia e mantém a infraestrutura de TI de uma empresa.\n*   **Especialista em Segurança Cibernética:** Protege sistemas e dados contra ameaças cibernéticas.\n\n**Outras áreas em alta:**\n\n*   **Gerente de Projetos de TI:** Planeja, coordena e executa projetos de tecnologia.\n*   **Analista de Negócios de TI:** Traduz as necessidades de negócios em requisitos técnicos.\n*   **Especialista em UX/UI Design:** Foca na experiência do usuário e design da interface.\n*   **Especialista em Blockchain:** Desenvolve e implementa soluções baseadas em blockchain.\n*   **Especialista em Robótica:** Desenvolve e implementa soluções de automação e robótica.\n\n**Observações Importantes:**\n\n*   **Habilidades em demanda:** Além das habilidades técnicas específicas de cada cargo, algumas habilidades são cada vez mais valorizadas, como:\n    *   **Habilidades de comunicação:** Capacidade de se comunicar de forma clara e eficaz com colegas, clientes e outras partes interessadas.\n    *   **Habilidades de resolução de problemas:** Capacidade de identificar e resolver problemas de forma eficiente.\n    *   **Trabalho em equipe:** Capacidade de trabalhar em colaboração com outros membros da equipe.\n    *   **Aprendizado contínuo:** Capacidade de se manter atualizado com as novas tecnologias e tendências.\n*   **Localização:** A demanda por cargos em tecnologia pode variar dependendo da localização geográfica. Grandes centros urbanos e regiões com ecossistemas de tecnologia bem desenvolvidos tendem a ter mais oportunidades.\n*   **Nível de experiência:** A demanda também varia de acordo com o nível de experiência. Há oportunidades para profissionais juniores, plenos e seniores.\n\nPara se manter atualizado sobre as últimas tendências do mercado de tecnologia, recomendo acompanhar notícias do setor, participar de eventos e conferências, e conversar com profissionais da área.\n\nEspero que esta informação seja útil!\n"
          },
          "metadata": {}
        }
      ]
    },
    {
      "cell_type": "code",
      "source": [
        "# Pergunta ao Gemini uma informação utilizando a busca do Google como contexto\n",
        "\n",
        "response = client.models.generate_content(\n",
        "    model=MODEL_ID,\n",
        "    contents='Quais são os cargos mais buscados em Tecnologia?',\n",
        "    # Inserir a tool de busca do Google ###############################################\n",
        "    config={\"tools\": [{\"google_search\": {}}]}\n",
        ")\n",
        "\n",
        "# Exibe a resposta na tela\n",
        "display(Markdown(f\"Resposta:\\n {response.text}\"))"
      ],
      "metadata": {
        "id": "yXaZd7iZ4ftw",
        "colab": {
          "base_uri": "https://localhost:8080/",
          "height": 284
        },
        "outputId": "54a7bc22-dff8-49a2-abb9-71e3f7a0bdf2"
      },
      "execution_count": 6,
      "outputs": [
        {
          "output_type": "display_data",
          "data": {
            "text/plain": [
              "<IPython.core.display.Markdown object>"
            ],
            "text/markdown": "Resposta:\n Com base nas fontes, aqui estão alguns dos cargos mais procurados na área de tecnologia:\n\n*   **Engenheiro de Dados**: Responsáveis por desenvolver e manter sistemas de armazenamento e análise de dados.\n*   **Desenvolvedor de Software**: Criação de soluções inovadoras em aplicativos.\n*   **Especialista em Segurança da Informação/Cibersegurança**: Protegem dados e sistemas contra ameaças cibernéticas.\n*   **Analista/Cientista de Dados**: Extraem insights valiosos de grandes volumes de informações.\n*   **Especialista/Engenheiro de Inteligência Artificial (IA) e Aprendizado de Máquina**: Desenvolvem sistemas que automatizam tarefas e oferecem insights.\n*   **Desenvolvedor Blockchain**: Projetam e implementam soluções baseadas nessa tecnologia.\n*   **Arquiteto de Solução/Infraestrutura/Cloud**: Projetam e mantêm sistemas para coleta, armazenamento e análise de dados em escala, garantindo a acessibilidade dos dados.\n*   **Especialista em IoT (Internet das Coisas)**: Criam soluções que integram hardware e software de maneira eficiente.\n*   **Gerente de Desenvolvimento/TI**: Lideram equipes de desenvolvimento de software e supervisionam projetos.\n*   **Especialista em Realidade Aumentada e Virtual**: Desenvolvem experiências imersivas e interativas.\n\nA demanda por profissionais de tecnologia continua alta devido à transformação digital, expansão da computação em nuvem, e o aumento das ameaças cibernéticas. Habilidades em áreas como IA e cibersegurança são especialmente valorizadas."
          },
          "metadata": {}
        }
      ]
    },
    {
      "cell_type": "code",
      "source": [
        "# Exibe a busca\n",
        "print(f\"Busca realizada: {response.candidates[0].grounding_metadata.web_search_queries}\")\n",
        "# Exibe as URLs nas quais ele se baseou\n",
        "print(f\"Páginas utilizadas na resposta: {', '.join([site.web.title for site in response.candidates[0].grounding_metadata.grounding_chunks])}\")\n",
        "print()\n",
        "display(HTML(response.candidates[0].grounding_metadata.search_entry_point.rendered_content))"
      ],
      "metadata": {
        "id": "xHSNlTd84heJ",
        "colab": {
          "base_uri": "https://localhost:8080/",
          "height": 116
        },
        "outputId": "8296fe01-3b95-4f0c-d5bd-e7e4283ab6c4"
      },
      "execution_count": 7,
      "outputs": [
        {
          "output_type": "stream",
          "name": "stdout",
          "text": [
            "Busca realizada: ['profissoes tecnologia alta demanda', 'cargos mais procurados em tecnologia']\n",
            "Páginas utilizadas na resposta: fenati.org.br, carreiraemti.com.br, assertech.com.br, hays.com.br, exame.com, exame.com\n",
            "\n"
          ]
        },
        {
          "output_type": "display_data",
          "data": {
            "text/plain": [
              "<IPython.core.display.HTML object>"
            ],
            "text/html": [
              "<style>\n",
              ".container {\n",
              "  align-items: center;\n",
              "  border-radius: 8px;\n",
              "  display: flex;\n",
              "  font-family: Google Sans, Roboto, sans-serif;\n",
              "  font-size: 14px;\n",
              "  line-height: 20px;\n",
              "  padding: 8px 12px;\n",
              "}\n",
              ".chip {\n",
              "  display: inline-block;\n",
              "  border: solid 1px;\n",
              "  border-radius: 16px;\n",
              "  min-width: 14px;\n",
              "  padding: 5px 16px;\n",
              "  text-align: center;\n",
              "  user-select: none;\n",
              "  margin: 0 8px;\n",
              "  -webkit-tap-highlight-color: transparent;\n",
              "}\n",
              ".carousel {\n",
              "  overflow: auto;\n",
              "  scrollbar-width: none;\n",
              "  white-space: nowrap;\n",
              "  margin-right: -12px;\n",
              "}\n",
              ".headline {\n",
              "  display: flex;\n",
              "  margin-right: 4px;\n",
              "}\n",
              ".gradient-container {\n",
              "  position: relative;\n",
              "}\n",
              ".gradient {\n",
              "  position: absolute;\n",
              "  transform: translate(3px, -9px);\n",
              "  height: 36px;\n",
              "  width: 9px;\n",
              "}\n",
              "@media (prefers-color-scheme: light) {\n",
              "  .container {\n",
              "    background-color: #fafafa;\n",
              "    box-shadow: 0 0 0 1px #0000000f;\n",
              "  }\n",
              "  .headline-label {\n",
              "    color: #1f1f1f;\n",
              "  }\n",
              "  .chip {\n",
              "    background-color: #ffffff;\n",
              "    border-color: #d2d2d2;\n",
              "    color: #5e5e5e;\n",
              "    text-decoration: none;\n",
              "  }\n",
              "  .chip:hover {\n",
              "    background-color: #f2f2f2;\n",
              "  }\n",
              "  .chip:focus {\n",
              "    background-color: #f2f2f2;\n",
              "  }\n",
              "  .chip:active {\n",
              "    background-color: #d8d8d8;\n",
              "    border-color: #b6b6b6;\n",
              "  }\n",
              "  .logo-dark {\n",
              "    display: none;\n",
              "  }\n",
              "  .gradient {\n",
              "    background: linear-gradient(90deg, #fafafa 15%, #fafafa00 100%);\n",
              "  }\n",
              "}\n",
              "@media (prefers-color-scheme: dark) {\n",
              "  .container {\n",
              "    background-color: #1f1f1f;\n",
              "    box-shadow: 0 0 0 1px #ffffff26;\n",
              "  }\n",
              "  .headline-label {\n",
              "    color: #fff;\n",
              "  }\n",
              "  .chip {\n",
              "    background-color: #2c2c2c;\n",
              "    border-color: #3c4043;\n",
              "    color: #fff;\n",
              "    text-decoration: none;\n",
              "  }\n",
              "  .chip:hover {\n",
              "    background-color: #353536;\n",
              "  }\n",
              "  .chip:focus {\n",
              "    background-color: #353536;\n",
              "  }\n",
              "  .chip:active {\n",
              "    background-color: #464849;\n",
              "    border-color: #53575b;\n",
              "  }\n",
              "  .logo-light {\n",
              "    display: none;\n",
              "  }\n",
              "  .gradient {\n",
              "    background: linear-gradient(90deg, #1f1f1f 15%, #1f1f1f00 100%);\n",
              "  }\n",
              "}\n",
              "</style>\n",
              "<div class=\"container\">\n",
              "  <div class=\"headline\">\n",
              "    <svg class=\"logo-light\" width=\"18\" height=\"18\" viewBox=\"9 9 35 35\" fill=\"none\" xmlns=\"http://www.w3.org/2000/svg\">\n",
              "      <path fill-rule=\"evenodd\" clip-rule=\"evenodd\" d=\"M42.8622 27.0064C42.8622 25.7839 42.7525 24.6084 42.5487 23.4799H26.3109V30.1568H35.5897C35.1821 32.3041 33.9596 34.1222 32.1258 35.3448V39.6864H37.7213C40.9814 36.677 42.8622 32.2571 42.8622 27.0064V27.0064Z\" fill=\"#4285F4\"/>\n",
              "      <path fill-rule=\"evenodd\" clip-rule=\"evenodd\" d=\"M26.3109 43.8555C30.9659 43.8555 34.8687 42.3195 37.7213 39.6863L32.1258 35.3447C30.5898 36.3792 28.6306 37.0061 26.3109 37.0061C21.8282 37.0061 18.0195 33.9811 16.6559 29.906H10.9194V34.3573C13.7563 39.9841 19.5712 43.8555 26.3109 43.8555V43.8555Z\" fill=\"#34A853\"/>\n",
              "      <path fill-rule=\"evenodd\" clip-rule=\"evenodd\" d=\"M16.6559 29.8904C16.3111 28.8559 16.1074 27.7588 16.1074 26.6146C16.1074 25.4704 16.3111 24.3733 16.6559 23.3388V18.8875H10.9194C9.74388 21.2072 9.06992 23.8247 9.06992 26.6146C9.06992 29.4045 9.74388 32.022 10.9194 34.3417L15.3864 30.8621L16.6559 29.8904V29.8904Z\" fill=\"#FBBC05\"/>\n",
              "      <path fill-rule=\"evenodd\" clip-rule=\"evenodd\" d=\"M26.3109 16.2386C28.85 16.2386 31.107 17.1164 32.9095 18.8091L37.8466 13.8719C34.853 11.082 30.9659 9.3736 26.3109 9.3736C19.5712 9.3736 13.7563 13.245 10.9194 18.8875L16.6559 23.3388C18.0195 19.2636 21.8282 16.2386 26.3109 16.2386V16.2386Z\" fill=\"#EA4335\"/>\n",
              "    </svg>\n",
              "    <svg class=\"logo-dark\" width=\"18\" height=\"18\" viewBox=\"0 0 48 48\" xmlns=\"http://www.w3.org/2000/svg\">\n",
              "      <circle cx=\"24\" cy=\"23\" fill=\"#FFF\" r=\"22\"/>\n",
              "      <path d=\"M33.76 34.26c2.75-2.56 4.49-6.37 4.49-11.26 0-.89-.08-1.84-.29-3H24.01v5.99h8.03c-.4 2.02-1.5 3.56-3.07 4.56v.75l3.91 2.97h.88z\" fill=\"#4285F4\"/>\n",
              "      <path d=\"M15.58 25.77A8.845 8.845 0 0 0 24 31.86c1.92 0 3.62-.46 4.97-1.31l4.79 3.71C31.14 36.7 27.65 38 24 38c-5.93 0-11.01-3.4-13.45-8.36l.17-1.01 4.06-2.85h.8z\" fill=\"#34A853\"/>\n",
              "      <path d=\"M15.59 20.21a8.864 8.864 0 0 0 0 5.58l-5.03 3.86c-.98-2-1.53-4.25-1.53-6.64 0-2.39.55-4.64 1.53-6.64l1-.22 3.81 2.98.22 1.08z\" fill=\"#FBBC05\"/>\n",
              "      <path d=\"M24 14.14c2.11 0 4.02.75 5.52 1.98l4.36-4.36C31.22 9.43 27.81 8 24 8c-5.93 0-11.01 3.4-13.45 8.36l5.03 3.85A8.86 8.86 0 0 1 24 14.14z\" fill=\"#EA4335\"/>\n",
              "    </svg>\n",
              "    <div class=\"gradient-container\"><div class=\"gradient\"></div></div>\n",
              "  </div>\n",
              "  <div class=\"carousel\">\n",
              "    <a class=\"chip\" href=\"https://vertexaisearch.cloud.google.com/grounding-api-redirect/AbF9wXETURbru93AnLkHopRPMCw5naFJ5-B_z3Q6_OG6jroAZeOxffGkYjWsPLZScRN4jS1KK3fqYxxo5TEaGOnLF8aj-7nk_Rc5aHtWHDArAAzYzqWVO0DcfGjK4OUrC-zsHrpKkapXK8h06RCUUXgvogXTbkiIEGNFbInbGX4JqWvBDz5wVZi8PgJzA8PZQU3bNQVQPPt-sKSq8qR3Sz_ix4kzHsYpwRh7GA==\">cargos mais procurados em tecnologia</a>\n",
              "    <a class=\"chip\" href=\"https://vertexaisearch.cloud.google.com/grounding-api-redirect/AbF9wXFvsBBoInGPPECFxtz3EEKolVagQJ8X6GSUfoh_4xhOrKH2wc9FvgDsRVgrDqpTO9ug_if8eZ6APxQ3QTIKjgx0QCrsZOoU5qUPXXt6GYka1Zrlmrfkk4rdJSxkvjrIpb7XtIZCWNrPmV5wFftZkpH4EEF6VR5_coNMKTQWKBmKG3RVwt0APyYKjipWAdmuP5gh_Fz6BmauZPDuA6KRWH82ZGeAjkM=\">profissoes tecnologia alta demanda</a>\n",
              "  </div>\n",
              "</div>\n"
            ]
          },
          "metadata": {}
        }
      ]
    },
    {
      "cell_type": "code",
      "source": [
        "# Instalar Framework ADK de agentes do Google ################################################\n",
        "!pip install -q google-adk"
      ],
      "metadata": {
        "id": "hvZ3UnPI4jhJ",
        "colab": {
          "base_uri": "https://localhost:8080/"
        },
        "outputId": "d75461e6-670e-4e8f-e5cf-bc92721340c1"
      },
      "execution_count": 8,
      "outputs": [
        {
          "output_type": "stream",
          "name": "stdout",
          "text": [
            "\u001b[?25l   \u001b[90m━━━━━━━━━━━━━━━━━━━━━━━━━━━━━━━━━━━━━━━━\u001b[0m \u001b[32m0.0/1.2 MB\u001b[0m \u001b[31m?\u001b[0m eta \u001b[36m-:--:--\u001b[0m\r\u001b[2K   \u001b[91m━━━━━━━━━━━━━━━━━━━━━━━━━━━━━━━━━━━━━━━\u001b[0m\u001b[91m╸\u001b[0m \u001b[32m1.2/1.2 MB\u001b[0m \u001b[31m61.3 MB/s\u001b[0m eta \u001b[36m0:00:01\u001b[0m\r\u001b[2K   \u001b[90m━━━━━━━━━━━━━━━━━━━━━━━━━━━━━━━━━━━━━━━━\u001b[0m \u001b[32m1.2/1.2 MB\u001b[0m \u001b[31m31.9 MB/s\u001b[0m eta \u001b[36m0:00:00\u001b[0m\n",
            "\u001b[?25h\u001b[?25l   \u001b[90m━━━━━━━━━━━━━━━━━━━━━━━━━━━━━━━━━━━━━━━━\u001b[0m \u001b[32m0.0/232.1 kB\u001b[0m \u001b[31m?\u001b[0m eta \u001b[36m-:--:--\u001b[0m\r\u001b[2K   \u001b[90m━━━━━━━━━━━━━━━━━━━━━━━━━━━━━━━━━━━━━━━━\u001b[0m \u001b[32m232.1/232.1 kB\u001b[0m \u001b[31m11.8 MB/s\u001b[0m eta \u001b[36m0:00:00\u001b[0m\n",
            "\u001b[?25h\u001b[?25l   \u001b[90m━━━━━━━━━━━━━━━━━━━━━━━━━━━━━━━━━━━━━━━━\u001b[0m \u001b[32m0.0/95.2 kB\u001b[0m \u001b[31m?\u001b[0m eta \u001b[36m-:--:--\u001b[0m\r\u001b[2K   \u001b[90m━━━━━━━━━━━━━━━━━━━━━━━━━━━━━━━━━━━━━━━━\u001b[0m \u001b[32m95.2/95.2 kB\u001b[0m \u001b[31m7.1 MB/s\u001b[0m eta \u001b[36m0:00:00\u001b[0m\n",
            "\u001b[2K   \u001b[90m━━━━━━━━━━━━━━━━━━━━━━━━━━━━━━━━━━━━━━━━\u001b[0m \u001b[32m217.1/217.1 kB\u001b[0m \u001b[31m11.5 MB/s\u001b[0m eta \u001b[36m0:00:00\u001b[0m\n",
            "\u001b[2K   \u001b[90m━━━━━━━━━━━━━━━━━━━━━━━━━━━━━━━━━━━━━━━━\u001b[0m \u001b[32m334.1/334.1 kB\u001b[0m \u001b[31m18.4 MB/s\u001b[0m eta \u001b[36m0:00:00\u001b[0m\n",
            "\u001b[2K   \u001b[90m━━━━━━━━━━━━━━━━━━━━━━━━━━━━━━━━━━━━━━━━\u001b[0m \u001b[32m125.1/125.1 kB\u001b[0m \u001b[31m8.3 MB/s\u001b[0m eta \u001b[36m0:00:00\u001b[0m\n",
            "\u001b[2K   \u001b[90m━━━━━━━━━━━━━━━━━━━━━━━━━━━━━━━━━━━━━━━━\u001b[0m \u001b[32m65.8/65.8 kB\u001b[0m \u001b[31m4.9 MB/s\u001b[0m eta \u001b[36m0:00:00\u001b[0m\n",
            "\u001b[2K   \u001b[90m━━━━━━━━━━━━━━━━━━━━━━━━━━━━━━━━━━━━━━━━\u001b[0m \u001b[32m119.0/119.0 kB\u001b[0m \u001b[31m9.9 MB/s\u001b[0m eta \u001b[36m0:00:00\u001b[0m\n",
            "\u001b[2K   \u001b[90m━━━━━━━━━━━━━━━━━━━━━━━━━━━━━━━━━━━━━━━━\u001b[0m \u001b[32m194.9/194.9 kB\u001b[0m \u001b[31m15.3 MB/s\u001b[0m eta \u001b[36m0:00:00\u001b[0m\n",
            "\u001b[2K   \u001b[90m━━━━━━━━━━━━━━━━━━━━━━━━━━━━━━━━━━━━━━━━\u001b[0m \u001b[32m62.5/62.5 kB\u001b[0m \u001b[31m4.6 MB/s\u001b[0m eta \u001b[36m0:00:00\u001b[0m\n",
            "\u001b[2K   \u001b[90m━━━━━━━━━━━━━━━━━━━━━━━━━━━━━━━━━━━━━━━━\u001b[0m \u001b[32m103.3/103.3 kB\u001b[0m \u001b[31m9.3 MB/s\u001b[0m eta \u001b[36m0:00:00\u001b[0m\n",
            "\u001b[2K   \u001b[90m━━━━━━━━━━━━━━━━━━━━━━━━━━━━━━━━━━━━━━━━\u001b[0m \u001b[32m44.4/44.4 kB\u001b[0m \u001b[31m3.0 MB/s\u001b[0m eta \u001b[36m0:00:00\u001b[0m\n",
            "\u001b[2K   \u001b[90m━━━━━━━━━━━━━━━━━━━━━━━━━━━━━━━━━━━━━━━━\u001b[0m \u001b[32m72.0/72.0 kB\u001b[0m \u001b[31m5.7 MB/s\u001b[0m eta \u001b[36m0:00:00\u001b[0m\n",
            "\u001b[?25h"
          ]
        }
      ]
    },
    {
      "cell_type": "code",
      "execution_count": 9,
      "metadata": {
        "id": "aePV2bdfDeoW"
      },
      "outputs": [],
      "source": [
        "from google.adk.agents import Agent\n",
        "from google.adk.runners import Runner\n",
        "from google.adk.sessions import InMemorySessionService\n",
        "from google.adk.tools import google_search\n",
        "from google.genai import types  # Para criar conteúdos (Content e Part)\n",
        "from datetime import date\n",
        "import textwrap # Para formatar melhor a saída de texto\n",
        "from IPython.display import display, Markdown # Para exibir texto formatado no Colab\n",
        "import requests # Para fazer requisições HTTP\n",
        "import warnings\n",
        "\n",
        "warnings.filterwarnings(\"ignore\")"
      ]
    },
    {
      "cell_type": "code",
      "source": [
        "# Função auxiliar que envia uma mensagem para um agente via Runner e retorna a resposta final\n",
        "def call_agent(agent: Agent, message_text: str) -> str:\n",
        "    # Cria um serviço de sessão em memória\n",
        "    session_service = InMemorySessionService()\n",
        "    # Cria uma nova sessão (você pode personalizar os IDs conforme necessário)\n",
        "    session = session_service.create_session(app_name=agent.name, user_id=\"user1\", session_id=\"session1\")\n",
        "    # Cria um Runner para o agente\n",
        "    runner = Runner(agent=agent, app_name=agent.name, session_service=session_service)\n",
        "    # Cria o conteúdo da mensagem de entrada\n",
        "    content = types.Content(role=\"user\", parts=[types.Part(text=message_text)])\n",
        "\n",
        "    final_response = \"\"\n",
        "    # Itera assincronamente pelos eventos retornados durante a execução do agente\n",
        "    for event in runner.run(user_id=\"user1\", session_id=\"session1\", new_message=content):\n",
        "        if event.is_final_response():\n",
        "          for part in event.content.parts:\n",
        "            if part.text is not None:\n",
        "              final_response += part.text\n",
        "              final_response += \"\\n\"\n",
        "    return final_response"
      ],
      "metadata": {
        "id": "_xP4lWhsS5ko"
      },
      "execution_count": 11,
      "outputs": []
    },
    {
      "cell_type": "code",
      "source": [
        "# Função auxiliar para exibir texto formatado em Markdown no Colab\n",
        "def to_markdown(text):\n",
        "  text = text.replace('•', '  *')\n",
        "  return Markdown(textwrap.indent(text, '> ', predicate=lambda _: True))"
      ],
      "metadata": {
        "id": "8dosiodaxfFR"
      },
      "execution_count": 12,
      "outputs": []
    },
    {
      "cell_type": "code",
      "source": [
        "##########################################\n",
        "# --- Agente 1: Buscador de Notícias --- #\n",
        "##########################################\n",
        "\n",
        "def agente_buscador(topico, data_de_hoje):\n",
        "  buscador = Agent(\n",
        "       name=\"agente_buscador\",\n",
        "       model=\"gemini-2.0-flash\",\n",
        "       description=\"Agente de IA para Recrutamento e Seleção de TI\",\n",
        "       tools=[google_search],\n",
        "       instruction=\"\"\"\n",
        "       Você é um Tech Recruiter. A sua tarefa é usar a ferramenta de busca do Google (google_search) para encontrar sites com vagas na área de Tecnologia em aberto.\n",
        "       Foque em no máximo cinco lançamentos relevantes, com base nas vagas abertas mais recentes ou mais urgentes.\n",
        "       Esses lançamentos relevantes devem ser atuais, de no máximo um mês antes da data de hoje.\n",
        "       \"\"\"\n",
        "  )\n",
        "  entrada_do_agente_buscador = f\"Tópico: {topico}\\nData de hoje: {data_de_hoje}\"\n",
        "\n",
        "  # Executa o agente\n",
        "  lancamentos = call_agent(buscador, entrada_do_agente_buscador)\n",
        "  return lancamentos"
      ],
      "metadata": {
        "id": "o8bqIfi_DyH8"
      },
      "execution_count": 26,
      "outputs": []
    },
    {
      "cell_type": "code",
      "source": [
        "################################################\n",
        "# --- Agente 2: Planejador de posts --- #\n",
        "################################################\n",
        "def agente_planejador(topico, lancamentos_buscados):\n",
        "    planejador = Agent(\n",
        "        name=\"agente_planejador\",\n",
        "        model=\"gemini-2.0-flash\",\n",
        "        # Inserir as instruções do Agente Planejador #################################################\n",
        "        instruction=\"\"\"\n",
        "        Você é um planejador de conteúdo especialista em Linkedin. Com base na lista de lançamentos mais recentes e relevantes, você deve:\n",
        "        usar a ferramenta de busca do Google (google_search) para criar um plano de posts sobre ofertas de vagas em tecnologia para cada um deles.\n",
        "        Você pode usar o (google_search) para encontrar as informaçãoes que precisa.\n",
        "        Ao final você irá escolher as vagas em aberto mais importantes com base nas suas pesquisas e retornar as mais relevantes a serem abordadas no post\n",
        "        que será escrito posteriormente.\n",
        "        \"\"\",\n",
        "        description=\"Agente que planeja posts\",\n",
        "        tools=[google_search]\n",
        "    )\n",
        "\n",
        "    entrada_do_agente_planejador = f\"Tópico:{topico}\\nLançamentos buscados: {lancamentos_buscados}\"\n",
        "    # Executa o agente\n",
        "    plano_do_post = call_agent(planejador, entrada_do_agente_planejador)\n",
        "    return plano_do_post"
      ],
      "metadata": {
        "id": "y3VO1uo5_ghO"
      },
      "execution_count": 16,
      "outputs": []
    },
    {
      "cell_type": "code",
      "source": [
        "######################################\n",
        "# --- Agente 3: Redator do Post --- #\n",
        "######################################\n",
        "def agente_redator(topico, plano_de_post):\n",
        "    redator = Agent(\n",
        "        name=\"agente_redator\",\n",
        "        model=\"gemini-2.5-pro-preview-03-25\",\n",
        "        instruction=\"\"\"\n",
        "            Você é um Redator profissional e direto especializado em criar posts virais para redes sociais.\n",
        "            Você escreve posts o Linkedin da Tech Recruiter, Joana Ottoni.\n",
        "            Utilize o tema fornecido no plano de post e os pontos mais relevantes fornecidos e, com base nisso,\n",
        "            escreva um rascunho de post para o Linkedin sobre o tema indicado.\n",
        "            O post deve ser engajador, profissional, informativo, com linguagem simples e incluir 2 a 4 hashtags no final.\n",
        "            \"\"\",\n",
        "        description=\"Agente redator de posts engajadores para o Linkedin\"\n",
        "    )\n",
        "    entrada_do_agente_redator = f\"Tópico: {topico}\\nPlano de post: {plano_de_post}\"\n",
        "    # Executa o agente\n",
        "    rascunho = call_agent(redator, entrada_do_agente_redator)\n",
        "    return rascunho"
      ],
      "metadata": {
        "id": "uOqlg2TRLVh1"
      },
      "execution_count": 19,
      "outputs": []
    },
    {
      "cell_type": "code",
      "source": [
        "##########################################\n",
        "# --- Agente 4: Revisor de Qualidade --- #\n",
        "##########################################\n",
        "def agente_revisor(topico, rascunho_gerado):\n",
        "    revisor = Agent(\n",
        "        name=\"agente_revisor\",\n",
        "        model=\"gemini-2.5-pro-preview-03-25\",\n",
        "        instruction=\"\"\"\n",
        "            Você é um Editor e Revisor de Conteúdo meticuloso, especializado em posts para redes sociais, com foco no Linkedin.\n",
        "            Por ser uma rede social profissional, use um tom de escrita formal e adequado.\n",
        "            Revise o rascunho de post do Linkedin abaixo sobre o tópico indicado, verificando clareza, concisão, correção e tom.\n",
        "            Se o rascunho estiver bom, responda apenas 'O rascunho está ótimo e pronto para publicar!'.\n",
        "            Caso haja problemas, aponte-os e sugira melhorias.\n",
        "            \"\"\",\n",
        "        description=\"Agente revisor de post para Linkedin.\"\n",
        "    )\n",
        "    entrada_do_agente_revisor = f\"Tópico: {topico}\\nRascunho: {rascunho_gerado}\"\n",
        "    # Executa o agente\n",
        "    texto_revisado = call_agent(revisor, entrada_do_agente_revisor)\n",
        "    return texto_revisado"
      ],
      "metadata": {
        "id": "_aTb1SdkLeT6"
      },
      "execution_count": 20,
      "outputs": []
    },
    {
      "cell_type": "code",
      "source": [
        "data_de_hoje = date.today().strftime(\"%d/%m/%Y\")\n",
        "\n",
        "print(\"🚀 Iniciando o Sistema de Criação de Posts para Linkedin com 4 Agentes 🚀\")\n",
        "\n",
        "# --- Obter o Tópico do Usuário ---\n",
        "topico = input(\"❓ Por favor, digite o TÓPICO sobre o qual você quer criar o post de tendências: \")\n",
        "\n",
        "# Inserir lógica do sistema de agentes ################################################\n",
        "if not topico:\n",
        "  print(\"Você esqueceu de colocar um tópico.\")\n",
        "else:\n",
        "  print(f\"Maravilha! Vamos então criar o post das vagas mais relevantes em tecnologia{topico}\")\n",
        "\n",
        "  lancamentos = agente_buscador(topico, data_de_hoje)\n",
        "  print(\"\\n--- Resultado do Agente 1 (Buscador)---\\n\")\n",
        "  display(to_markdown(lancamentos))\n",
        "  print('--------------------------------------------')\n",
        "\n",
        "  plano_de_post = agente_planejador(topico, lancamentos)\n",
        "  print(\"\\n--- Resultado do Agente 2 (Planejador)---\\n\")\n",
        "  display(to_markdown(plano_de_post))\n",
        "  print('--------------------------------------------')\n",
        "\n",
        "  rascunho_de_post = agente_redator(topico, plano_de_post)\n",
        "  print(\"\\n--- Resultado do Agente 3 (Redator)---\\n\")\n",
        "  display(to_markdown(rascunho_de_post))\n",
        "  print('--------------------------------------------')\n",
        "\n",
        "  post_final = agente_revisor(topico, rascunho_de_post)\n",
        "  print(\"\\n--- Resultado do Agente 4 (Revisor)---\\n\")\n",
        "  display(to_markdown(post_final))\n",
        "  print('--------------------------------------------')"
      ],
      "metadata": {
        "id": "630ummxz4myx",
        "colab": {
          "base_uri": "https://localhost:8080/",
          "height": 1000
        },
        "collapsed": true,
        "outputId": "b8cb4bfb-b993-456d-d408-86a62b9d00ce"
      },
      "execution_count": 32,
      "outputs": [
        {
          "output_type": "stream",
          "name": "stdout",
          "text": [
            "🚀 Iniciando o Sistema de Criação de Posts para Linkedin com 4 Agentes 🚀\n",
            "❓ Por favor, digite o TÓPICO sobre o qual você quer criar o post de tendências: agentes de IA\n",
            "Maravilha! Vamos então criar o post das vagas mais relevantes em tecnologiaagentes de IA\n",
            "\n",
            "--- Resultado do Agente 1 (Buscador)---\n",
            "\n"
          ]
        },
        {
          "output_type": "display_data",
          "data": {
            "text/plain": [
              "<IPython.core.display.Markdown object>"
            ],
            "text/markdown": "> Olá! Para te ajudar a encontrar as melhores oportunidades na área de Tecnologia, vou realizar algumas buscas no Google. Veja as vagas mais recentes e relevantes que encontrei:\n> \n>  \n> Com base nas minhas buscas, aqui estão algumas vagas e informações relevantes para você:\n> \n>  1. **LUZA Group**:\n>  *   **Vagas:** 175 vagas (modelo híbrido)\n>  *   **Áreas:** Engenharia, Design, Tecnologia, Comercial e Finanças\n>  *   **Localidades:** Bahia, Mato Grosso, Minas Gerais, Paraná, Rio de Janeiro, Rio Grande do Sul e São Paulo\n>  *   **Cargos:** Analista de Projetos, Consultor de BI, Desenvolvedor Back End Node Sênior\n>  2. **Onfly**:\n>  *   **Vagas:** 30 vagas (presencial)\n>  *   **Local:** Belo Horizonte (MG)\n>  *   **Requisitos:** Ensino superior (completo ou cursando) em áreas como Administração, Gestão Comercial ou Marketing\n>  *   **Inscrições:** Até 31 de maio de 2025\n>  3. **Amazon Brasil**:\n>  *   **Vagas:** 100 vagas\n>  *   **Área:** Tecnologia Internacional (varejo e marketplace)\n>  *   **Cargos:** Desenvolvedores de Software (vários níveis)\n>  *   **Requisitos:** Graduação (completa ou em curso) em Ciência da Computação, Engenharia da Computação, Engenharia de Sistemas ou áreas afins\n>  4. **idwall**:\n>  *   **Vagas:** 8 vagas (remoto e híbrido)\n>  *   **Local:** São Paulo (capital)\n>  *   **Benefícios:** Assistência médica e odontológica, auxílio home office\n>  5. **Mirante Tecnologia**:\n>  *   **Vagas:** Analista de Testes Sênior (Brasília - DF), Desenvolvedor Mobile Sênior (Brasília - DF), Desenvolvedor Java PL/SR, Gerente de Suporte e Sistemas, Desenvolvedor Sênior Python/Django\n>  6. **Vivo Digital**:\n>  *   **Vaga:** Especialista de Inteligência Artificial (São Paulo - SP, Híbrido)\n>  *   **Inscrições:** Até 18 de maio de 2025\n>  7. **One Big Media Group (1BMG)**:\n>  *   **Vaga:** Estágio em Automações e Inteligência Artificial (Remoto)\n>  *   **Inscrições:** Até 15 de junho de 2025\n> \n>  **Outras informações relevantes:**\n> \n>  *   **Tendências de vagas de tecnologia para 2025:** Áreas como Cloud Computing, Cibersegurança e Inteligência Artificial estão em alta demanda.\n>  *   **Déficit de profissionais de TI:** O Brasil pode enfrentar um déficit de 530 mil profissionais de TI até 2025.\n>  *   **Salários:** A remuneração dos profissionais de TIC é, em média, 2,9 vezes maior do que a de outros setores.\n>  *   **Cursos e capacitação:** Empresas como Fatec Pompeia e Oracle também estão oferecendo cursos de capacitação para quem deseja ingressar no setor.\n>  *   **Mercado aquecido:** O setor de tecnologia deve gerar cerca de 800 mil vagas de emprego até 2025.\n> \n>  Espero que estas informações te ajudem na sua busca por oportunidades!\n> \n"
          },
          "metadata": {}
        },
        {
          "output_type": "stream",
          "name": "stdout",
          "text": [
            "--------------------------------------------\n",
            "\n",
            "--- Resultado do Agente 2 (Planejador)---\n",
            "\n"
          ]
        },
        {
          "output_type": "display_data",
          "data": {
            "text/plain": [
              "<IPython.core.display.Markdown object>"
            ],
            "text/markdown": "> Com base nas informações e vagas listadas, e considerando que o tópico é \"agentes de IA\" e o objetivo é criar um plano de posts para LinkedIn sobre oportunidades em tecnologia, aqui está uma sugestão de plano focando nas vagas mais relevantes e atuais:\n> \n> Primeiramente, farei mais algumas buscas no Google para obter informações adicionais e insights que possam enriquecer os posts.\n> \n> \n> Com base nas buscas e nos dados fornecidos, aqui está o plano de posts para LinkedIn, focado em vagas e tendências para Agentes de IA no Brasil, para os próximos dias:\n> \n> **Foco Geral:** Oportunidades de carreira em Agentes de IA e áreas correlatas no Brasil, tendências do mercado, dicas de capacitação e salários.\n> \n> **Público-alvo:** Profissionais de TI, estudantes, interessados em migrar para a área de IA, recrutadores e empresas do setor.\n> \n> **Pilares de Conteúdo:**\n> \n> *   **Vagas:** Divulgação de vagas abertas e informações sobre as empresas contratantes.\n> *   **Tendências:** Análise das tendências do mercado de IA e Agentes de IA no Brasil.\n> *   **Capacitação:** Indicação de cursos, certificações e eventos relevantes.\n> *   **Salários:** Informações sobre a remuneração na área de IA e dicas para negociar salários.\n> *   **Notícias:** Novidades sobre o mercado de IA, como investimentos, regulamentação e inovações.\n> \n> **Sugestões de Posts:**\n> \n> 1.  **Vaga em Destaque (Vivo Digital):**\n> \n>     *   **Título:** Oportunidade Híbrida em IA: Vivo Digital busca Especialista em Inteligência Artificial em SP!\n>     *   **Conteúdo:**\n>         *   A Vivo Digital está com uma vaga aberta para Especialista de Inteligência Artificial em São Paulo (modelo híbrido).\n>         *   [Link para a vaga]\n>         *   Destaque para a relevância da Vivo no cenário de inovação e tecnologia no Brasil.\n>         *   Incentivo aos interessados a se candidatarem e compartilharem a oportunidade.\n>         *   Hashtags: #vagas #inteligenciaartificial #ia #tecnologia #vivodigital #oportunidade #sp #hibrido\n>     *   **Imagem/Vídeo:** Uma imagem/vídeo chamativo da Vivo ou relacionada à área de IA.\n> 2.  **Vaga Remota (One Big Media Group - 1BMG):**\n> \n>     *   **Título:** Estágio Remoto em Automações e Inteligência Artificial na 1BMG!\n>     *   **Conteúdo:**\n>         *   A One Big Media Group (1BMG) está com vaga de Estágio em Automações e Inteligência Artificial, 100% Remoto!\n>         *   [Link para a vaga]\n>         *   Ideal para estudantes que buscam experiência prática em IA e automação.\n>         *   Hashtags: #vagas #ia #inteligenciaartificial #estagio #remoto #1BMG #automacao\n>     *   **Imagem/Vídeo:** Uma imagem/vídeo atrativo sobre IA e trabalho remoto.\n> 3.  **Tendências do Mercado de Agentes de IA:**\n> \n>     *   **Título:** Agentes de IA: O Futuro do Trabalho e da Automação nas Empresas Brasileiras\n>     *   **Conteúdo:**\n>         *   Em 2025, os agentes de IA estão transformando a forma como as empresas operam e automatizam tarefas.\n>         *   Dados da PwC indicam que empresas que investem em IA estão reconfigurando a competitividade setorial e otimizando processos.\n>         *  A B3 (Bolsa de Valores do Brasil), está projetando um investimento significativo de R$ 10 milhões para desenvolver 50 novos agentes de IA até 2025.\n>         *   Indicação de leitura: \"2025: o ano que os agentes de inteligência artificial saem dos bastidores\" (IT Forum) e \"Agentes de IA transformam empresas e criam nova era para líderes e equipes\" (The Shift).\n>         *   Hashtags: #ia #inteligenciaartificial #agentesdeia #automacao #empresas #futurodotrabalho #inovacao #tendencias\n>     *   **Imagem/Vídeo:** Infográfico com dados sobre o crescimento do mercado de Agentes de IA.\n> 4.  **Cursos e Certificações em IA:**\n> \n>     *   **Título:** Turbine sua Carreira em IA: Cursos Gratuitos e Certificações para 2025!\n>     *   **Conteúdo:**\n>         *   A demanda por profissionais de IA está em alta! Invista em sua capacitação com cursos e certificações.\n>         *   Sugestões de cursos gratuitos:\n>             *   \"IA Para Todos\" (Qualifica SP): [Link para o curso]\n>             *   Cursos da EV.g (Escola Virtual do Governo Federal): [Link para os cursos]\n>             *   Bootcamp \"Coding the Future\" (HEINEKEN e DIO): [Link para o bootcamp]\n>         *   Sugestões de certificações:\n>             *   Microsoft Certified: Azure AI Engineer Associate\n>             *   Google Professional Machine Learning Engineer\n>         *   Hashtags: #ia #inteligenciaartificial #cursos #certificacao #capacitacao #carreira #tecnologia #gratuito\n>     *   **Imagem/Vídeo:** Carrossel com imagens dos cursos e certificações.\n> 5.  **Salários na Área de IA:**\n> \n>     *   **Título:** Quanto Ganha um Profissional de IA no Brasil em 2025?\n>     *   **Conteúdo:**\n>         *   O mercado de IA está aquecido e oferece ótimas oportunidades de remuneração.\n>         *   Salários médios (podem variar conforme a experiência e localização):\n>             *   Estagiário em IA: R$2.000 a R$4.000/mês\n>             *   Analista de IA: R$3.000 a R$8.000/mês\n>             *   Engenheiro de IA: R$6.000/mês (em média)\n>             *   Especialista em IA: R$3.000 a R$18.000/mês\n>             *   Cientista de Dados/Especialista em Machine Learning (experiência): R$15.000 a R$32.000+/mês\n>         *  Com salários de até R$ 35 mil, essa é uma das profissões mais promissoras para 2025\n>         *   Dica: Profissionais com certificações em IA tendem a ter salários mais altos.\n>         *   Hashtags: #ia #inteligenciaartificial #salario #remuneracao #carreira #tecnologia #mercadodetrabalho\n>     *   **Imagem/Vídeo:** Gráfico com a média salarial de diferentes cargos em IA.\n> \n> **Observações:**\n> \n> *   Adaptar a linguagem dos posts para o público do LinkedIn, utilizando uma comunicação profissional e engajadora.\n> *   Utilizar hashtags relevantes para aumentar o alcance das publicações.\n> *   Incentivar a interação dos seguidores, fazendo perguntas e pedindo opiniões.\n> *   Monitorar os resultados dos posts e ajustar a estratégia conforme necessário.\n> *   Explorar outros formatos de conteúdo, como artigos, vídeos e lives, para diversificar a abordagem.\n> *   Priorizar vagas e informações que mencionem \"Agentes de IA\" diretamente.\n> *   Aproveitar a informação sobre o possível déficit de profissionais de TI para enfatizar a importância da capacitação e da busca por oportunidades na área.\n> *   Manter-se atualizado sobre as novidades do mercado de IA para criar conteúdo relevante e oportuno.\n> \n> **Vagas Mais Importantes para Abordar (com base nas buscas e no tema \"Agentes de IA\"):**\n> \n> 1.  **Especialista de Inteligência Artificial (Vivo Digital):** Por ser diretamente relacionada à área de IA e oferecer um modelo de trabalho híbrido.\n> 2.  **Estágio em Automações e Inteligência Artificial (1BMG):** Por ser uma porta de entrada para estudantes interessados na área e oferecer a flexibilidade do trabalho remoto.\n> \n> Este plano tem como objetivo fornecer um direcionamento inicial para a criação de posts no LinkedIn sobre oportunidades em Agentes de IA. É importante adaptar e refinar as sugestões com base no feedback do público e nas novidades do mercado.\n> \n"
          },
          "metadata": {}
        },
        {
          "output_type": "stream",
          "name": "stdout",
          "text": [
            "--------------------------------------------\n"
          ]
        },
        {
          "output_type": "stream",
          "name": "stderr",
          "text": [
            "Exception in thread Thread-43 (_asyncio_thread_main):\n",
            "Traceback (most recent call last):\n",
            "  File \"/usr/lib/python3.11/threading.py\", line 1045, in _bootstrap_inner\n",
            "    self.run()\n",
            "  File \"/usr/lib/python3.11/threading.py\", line 982, in run\n",
            "    self._target(*self._args, **self._kwargs)\n",
            "  File \"/usr/local/lib/python3.11/dist-packages/google/adk/runners.py\", line 138, in _asyncio_thread_main\n",
            "    asyncio.run(_invoke_run_async())\n",
            "  File \"/usr/lib/python3.11/asyncio/runners.py\", line 190, in run\n",
            "    return runner.run(main)\n",
            "           ^^^^^^^^^^^^^^^^\n",
            "  File \"/usr/lib/python3.11/asyncio/runners.py\", line 118, in run\n",
            "    return self._loop.run_until_complete(task)\n",
            "           ^^^^^^^^^^^^^^^^^^^^^^^^^^^^^^^^^^^\n",
            "  File \"/usr/lib/python3.11/asyncio/base_events.py\", line 654, in run_until_complete\n",
            "    return future.result()\n",
            "           ^^^^^^^^^^^^^^^\n",
            "  File \"/usr/local/lib/python3.11/dist-packages/google/adk/runners.py\", line 126, in _invoke_run_async\n",
            "    async for event in self.run_async(\n",
            "  File \"/usr/local/lib/python3.11/dist-packages/google/adk/runners.py\", line 197, in run_async\n",
            "    async for event in invocation_context.agent.run_async(invocation_context):\n",
            "  File \"/usr/local/lib/python3.11/dist-packages/google/adk/agents/base_agent.py\", line 133, in run_async\n",
            "    async for event in self._run_async_impl(ctx):\n",
            "  File \"/usr/local/lib/python3.11/dist-packages/google/adk/agents/llm_agent.py\", line 246, in _run_async_impl\n",
            "    async for event in self._llm_flow.run_async(ctx):\n",
            "  File \"/usr/local/lib/python3.11/dist-packages/google/adk/flows/llm_flows/base_llm_flow.py\", line 243, in run_async\n",
            "    async for event in self._run_one_step_async(invocation_context):\n",
            "  File \"/usr/local/lib/python3.11/dist-packages/google/adk/flows/llm_flows/base_llm_flow.py\", line 268, in _run_one_step_async\n",
            "    async for llm_response in self._call_llm_async(\n",
            "  File \"/usr/local/lib/python3.11/dist-packages/google/adk/flows/llm_flows/base_llm_flow.py\", line 483, in _call_llm_async\n",
            "    async for llm_response in llm.generate_content_async(\n",
            "  File \"/usr/local/lib/python3.11/dist-packages/google/adk/models/google_llm.py\", line 140, in generate_content_async\n",
            "    response = await self.api_client.aio.models.generate_content(\n",
            "               ^^^^^^^^^^^^^^^^^^^^^^^^^^^^^^^^^^^^^^^^^^^^^^^^^^\n",
            "  File \"/usr/local/lib/python3.11/dist-packages/google/genai/models.py\", line 6672, in generate_content\n",
            "    response = await self._generate_content(\n",
            "               ^^^^^^^^^^^^^^^^^^^^^^^^^^^^^\n",
            "  File \"/usr/local/lib/python3.11/dist-packages/google/genai/models.py\", line 5674, in _generate_content\n",
            "    response_dict = await self._api_client.async_request(\n",
            "                    ^^^^^^^^^^^^^^^^^^^^^^^^^^^^^^^^^^^^^\n",
            "  File \"/usr/local/lib/python3.11/dist-packages/google/genai/_api_client.py\", line 789, in async_request\n",
            "    result = await self._async_request(http_request=http_request, stream=False)\n",
            "             ^^^^^^^^^^^^^^^^^^^^^^^^^^^^^^^^^^^^^^^^^^^^^^^^^^^^^^^^^^^^^^^^^^\n",
            "  File \"/usr/local/lib/python3.11/dist-packages/google/genai/_api_client.py\", line 733, in _async_request\n",
            "    await errors.APIError.raise_for_async_response(response)\n",
            "  File \"/usr/local/lib/python3.11/dist-packages/google/genai/errors.py\", line 129, in raise_for_async_response\n",
            "    raise ClientError(status_code, response_json, response)\n",
            "google.genai.errors.ClientError: 429 RESOURCE_EXHAUSTED. {'error': {'code': 429, 'message': \"Gemini 2.5 Pro Preview doesn't have a free quota tier. For more information on this error, head to: https://ai.google.dev/gemini-api/docs/rate-limits.\", 'status': 'RESOURCE_EXHAUSTED', 'details': [{'@type': 'type.googleapis.com/google.rpc.QuotaFailure', 'violations': [{'quotaMetric': 'generativelanguage.googleapis.com/generate_content_free_tier_input_token_count', 'quotaId': 'GenerateContentInputTokensPerModelPerDay-FreeTier', 'quotaDimensions': {'location': 'global', 'model': 'gemini-2.5-pro-exp'}}, {'quotaMetric': 'generativelanguage.googleapis.com/generate_content_free_tier_input_token_count', 'quotaId': 'GenerateContentInputTokensPerModelPerMinute-FreeTier', 'quotaDimensions': {'model': 'gemini-2.5-pro-exp', 'location': 'global'}}, {'quotaMetric': 'generativelanguage.googleapis.com/generate_content_free_tier_requests', 'quotaId': 'GenerateRequestsPerMinutePerProjectPerModel-FreeTier', 'quotaDimensions': {'location': 'global', 'model': 'gemini-2.5-pro-exp'}}, {'quotaMetric': 'generativelanguage.googleapis.com/generate_content_free_tier_requests', 'quotaId': 'GenerateRequestsPerDayPerProjectPerModel-FreeTier', 'quotaDimensions': {'model': 'gemini-2.5-pro-exp', 'location': 'global'}}]}, {'@type': 'type.googleapis.com/google.rpc.Help', 'links': [{'description': 'Learn more about Gemini API quotas', 'url': 'https://ai.google.dev/gemini-api/docs/rate-limits'}]}, {'@type': 'type.googleapis.com/google.rpc.RetryInfo', 'retryDelay': '42s'}]}}\n"
          ]
        },
        {
          "output_type": "stream",
          "name": "stdout",
          "text": [
            "\n",
            "--- Resultado do Agente 3 (Redator)---\n",
            "\n"
          ]
        },
        {
          "output_type": "display_data",
          "data": {
            "text/plain": [
              "<IPython.core.display.Markdown object>"
            ],
            "text/markdown": ""
          },
          "metadata": {}
        },
        {
          "output_type": "stream",
          "name": "stderr",
          "text": [
            "ERROR:asyncio:Task exception was never retrieved\n",
            "future: <Task finished name='Task-112' coro=<AsyncClient.aclose() done, defined at /usr/local/lib/python3.11/dist-packages/httpx/_client.py:1978> exception=RuntimeError('Event loop is closed')>\n",
            "Traceback (most recent call last):\n",
            "  File \"/usr/local/lib/python3.11/dist-packages/httpx/_client.py\", line 1985, in aclose\n",
            "    await self._transport.aclose()\n",
            "  File \"/usr/local/lib/python3.11/dist-packages/httpx/_transports/default.py\", line 406, in aclose\n",
            "    await self._pool.aclose()\n",
            "  File \"/usr/local/lib/python3.11/dist-packages/httpcore/_async/connection_pool.py\", line 353, in aclose\n",
            "    await self._close_connections(closing_connections)\n",
            "  File \"/usr/local/lib/python3.11/dist-packages/httpcore/_async/connection_pool.py\", line 345, in _close_connections\n",
            "    await connection.aclose()\n",
            "  File \"/usr/local/lib/python3.11/dist-packages/httpcore/_async/connection.py\", line 173, in aclose\n",
            "    await self._connection.aclose()\n",
            "  File \"/usr/local/lib/python3.11/dist-packages/httpcore/_async/http11.py\", line 258, in aclose\n",
            "    await self._network_stream.aclose()\n",
            "  File \"/usr/local/lib/python3.11/dist-packages/httpcore/_backends/anyio.py\", line 53, in aclose\n",
            "    await self._stream.aclose()\n",
            "  File \"/usr/local/lib/python3.11/dist-packages/anyio/streams/tls.py\", line 216, in aclose\n",
            "    await self.transport_stream.aclose()\n",
            "  File \"/usr/local/lib/python3.11/dist-packages/anyio/_backends/_asyncio.py\", line 1314, in aclose\n",
            "    self._transport.close()\n",
            "  File \"/usr/lib/python3.11/asyncio/selector_events.py\", line 864, in close\n",
            "    self._loop.call_soon(self._call_connection_lost, None)\n",
            "  File \"/usr/lib/python3.11/asyncio/base_events.py\", line 762, in call_soon\n",
            "    self._check_closed()\n",
            "  File \"/usr/lib/python3.11/asyncio/base_events.py\", line 520, in _check_closed\n",
            "    raise RuntimeError('Event loop is closed')\n",
            "RuntimeError: Event loop is closed\n"
          ]
        },
        {
          "output_type": "stream",
          "name": "stdout",
          "text": [
            "--------------------------------------------\n"
          ]
        },
        {
          "output_type": "stream",
          "name": "stderr",
          "text": [
            "Exception in thread Thread-45 (_asyncio_thread_main):\n",
            "Traceback (most recent call last):\n",
            "  File \"/usr/lib/python3.11/threading.py\", line 1045, in _bootstrap_inner\n",
            "    self.run()\n",
            "  File \"/usr/lib/python3.11/threading.py\", line 982, in run\n",
            "    self._target(*self._args, **self._kwargs)\n",
            "  File \"/usr/local/lib/python3.11/dist-packages/google/adk/runners.py\", line 138, in _asyncio_thread_main\n",
            "    asyncio.run(_invoke_run_async())\n",
            "  File \"/usr/lib/python3.11/asyncio/runners.py\", line 190, in run\n",
            "    return runner.run(main)\n",
            "           ^^^^^^^^^^^^^^^^\n",
            "  File \"/usr/lib/python3.11/asyncio/runners.py\", line 118, in run\n",
            "    return self._loop.run_until_complete(task)\n",
            "           ^^^^^^^^^^^^^^^^^^^^^^^^^^^^^^^^^^^\n",
            "  File \"/usr/lib/python3.11/asyncio/base_events.py\", line 654, in run_until_complete\n",
            "    return future.result()\n",
            "           ^^^^^^^^^^^^^^^\n",
            "  File \"/usr/local/lib/python3.11/dist-packages/google/adk/runners.py\", line 126, in _invoke_run_async\n",
            "    async for event in self.run_async(\n",
            "  File \"/usr/local/lib/python3.11/dist-packages/google/adk/runners.py\", line 197, in run_async\n",
            "    async for event in invocation_context.agent.run_async(invocation_context):\n",
            "  File \"/usr/local/lib/python3.11/dist-packages/google/adk/agents/base_agent.py\", line 133, in run_async\n",
            "    async for event in self._run_async_impl(ctx):\n",
            "  File \"/usr/local/lib/python3.11/dist-packages/google/adk/agents/llm_agent.py\", line 246, in _run_async_impl\n",
            "    async for event in self._llm_flow.run_async(ctx):\n",
            "  File \"/usr/local/lib/python3.11/dist-packages/google/adk/flows/llm_flows/base_llm_flow.py\", line 243, in run_async\n",
            "    async for event in self._run_one_step_async(invocation_context):\n",
            "  File \"/usr/local/lib/python3.11/dist-packages/google/adk/flows/llm_flows/base_llm_flow.py\", line 268, in _run_one_step_async\n",
            "    async for llm_response in self._call_llm_async(\n",
            "  File \"/usr/local/lib/python3.11/dist-packages/google/adk/flows/llm_flows/base_llm_flow.py\", line 483, in _call_llm_async\n",
            "    async for llm_response in llm.generate_content_async(\n",
            "  File \"/usr/local/lib/python3.11/dist-packages/google/adk/models/google_llm.py\", line 140, in generate_content_async\n",
            "    response = await self.api_client.aio.models.generate_content(\n",
            "               ^^^^^^^^^^^^^^^^^^^^^^^^^^^^^^^^^^^^^^^^^^^^^^^^^^\n",
            "  File \"/usr/local/lib/python3.11/dist-packages/google/genai/models.py\", line 6672, in generate_content\n",
            "    response = await self._generate_content(\n",
            "               ^^^^^^^^^^^^^^^^^^^^^^^^^^^^^\n",
            "  File \"/usr/local/lib/python3.11/dist-packages/google/genai/models.py\", line 5674, in _generate_content\n",
            "    response_dict = await self._api_client.async_request(\n",
            "                    ^^^^^^^^^^^^^^^^^^^^^^^^^^^^^^^^^^^^^\n",
            "  File \"/usr/local/lib/python3.11/dist-packages/google/genai/_api_client.py\", line 789, in async_request\n",
            "    result = await self._async_request(http_request=http_request, stream=False)\n",
            "             ^^^^^^^^^^^^^^^^^^^^^^^^^^^^^^^^^^^^^^^^^^^^^^^^^^^^^^^^^^^^^^^^^^\n",
            "  File \"/usr/local/lib/python3.11/dist-packages/google/genai/_api_client.py\", line 733, in _async_request\n",
            "    await errors.APIError.raise_for_async_response(response)\n",
            "  File \"/usr/local/lib/python3.11/dist-packages/google/genai/errors.py\", line 129, in raise_for_async_response\n",
            "    raise ClientError(status_code, response_json, response)\n",
            "google.genai.errors.ClientError: 429 RESOURCE_EXHAUSTED. {'error': {'code': 429, 'message': \"Gemini 2.5 Pro Preview doesn't have a free quota tier. For more information on this error, head to: https://ai.google.dev/gemini-api/docs/rate-limits.\", 'status': 'RESOURCE_EXHAUSTED', 'details': [{'@type': 'type.googleapis.com/google.rpc.QuotaFailure', 'violations': [{'quotaMetric': 'generativelanguage.googleapis.com/generate_content_free_tier_input_token_count', 'quotaId': 'GenerateContentInputTokensPerModelPerMinute-FreeTier', 'quotaDimensions': {'location': 'global', 'model': 'gemini-2.5-pro-exp'}}, {'quotaMetric': 'generativelanguage.googleapis.com/generate_content_free_tier_requests', 'quotaId': 'GenerateRequestsPerMinutePerProjectPerModel-FreeTier', 'quotaDimensions': {'model': 'gemini-2.5-pro-exp', 'location': 'global'}}, {'quotaMetric': 'generativelanguage.googleapis.com/generate_content_free_tier_requests', 'quotaId': 'GenerateRequestsPerDayPerProjectPerModel-FreeTier', 'quotaDimensions': {'location': 'global', 'model': 'gemini-2.5-pro-exp'}}, {'quotaMetric': 'generativelanguage.googleapis.com/generate_content_free_tier_input_token_count', 'quotaId': 'GenerateContentInputTokensPerModelPerDay-FreeTier', 'quotaDimensions': {'location': 'global', 'model': 'gemini-2.5-pro-exp'}}]}, {'@type': 'type.googleapis.com/google.rpc.Help', 'links': [{'description': 'Learn more about Gemini API quotas', 'url': 'https://ai.google.dev/gemini-api/docs/rate-limits'}]}, {'@type': 'type.googleapis.com/google.rpc.RetryInfo', 'retryDelay': '42s'}]}}\n"
          ]
        },
        {
          "output_type": "stream",
          "name": "stdout",
          "text": [
            "\n",
            "--- Resultado do Agente 4 (Revisor)---\n",
            "\n"
          ]
        },
        {
          "output_type": "display_data",
          "data": {
            "text/plain": [
              "<IPython.core.display.Markdown object>"
            ],
            "text/markdown": ""
          },
          "metadata": {}
        },
        {
          "output_type": "stream",
          "name": "stdout",
          "text": [
            "--------------------------------------------\n"
          ]
        }
      ]
    }
  ]
}